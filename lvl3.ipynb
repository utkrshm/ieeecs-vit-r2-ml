{
 "cells": [
  {
   "cell_type": "code",
   "execution_count": 1,
   "metadata": {},
   "outputs": [
    {
     "name": "stdout",
     "output_type": "stream",
     "text": [
      "Requirement already satisfied: numpy in c:\\users\\utkarsh\\appdata\\local\\programs\\python\\python310\\lib\\site-packages (1.26.4)\n",
      "Requirement already satisfied: pandas in c:\\users\\utkarsh\\appdata\\local\\programs\\python\\python310\\lib\\site-packages (2.0.3)\n",
      "Requirement already satisfied: matplotlib in c:\\users\\utkarsh\\appdata\\local\\programs\\python\\python310\\lib\\site-packages (3.7.2)\n",
      "Requirement already satisfied: scikit-learn in c:\\users\\utkarsh\\appdata\\local\\programs\\python\\python310\\lib\\site-packages (1.6.0)\n",
      "Requirement already satisfied: torch in c:\\users\\utkarsh\\appdata\\local\\programs\\python\\python310\\lib\\site-packages (2.5.1)\n",
      "Requirement already satisfied: torchvision in c:\\users\\utkarsh\\appdata\\local\\programs\\python\\python310\\lib\\site-packages (0.20.1)\n",
      "Requirement already satisfied: python-dateutil>=2.8.2 in c:\\users\\utkarsh\\appdata\\local\\programs\\python\\python310\\lib\\site-packages (from pandas) (2.8.2)\n",
      "Requirement already satisfied: pytz>=2020.1 in c:\\users\\utkarsh\\appdata\\local\\programs\\python\\python310\\lib\\site-packages (from pandas) (2023.3)\n",
      "Requirement already satisfied: tzdata>=2022.1 in c:\\users\\utkarsh\\appdata\\local\\programs\\python\\python310\\lib\\site-packages (from pandas) (2023.3)\n",
      "Requirement already satisfied: contourpy>=1.0.1 in c:\\users\\utkarsh\\appdata\\local\\programs\\python\\python310\\lib\\site-packages (from matplotlib) (1.1.0)\n",
      "Requirement already satisfied: cycler>=0.10 in c:\\users\\utkarsh\\appdata\\local\\programs\\python\\python310\\lib\\site-packages (from matplotlib) (0.11.0)\n",
      "Requirement already satisfied: fonttools>=4.22.0 in c:\\users\\utkarsh\\appdata\\local\\programs\\python\\python310\\lib\\site-packages (from matplotlib) (4.41.0)\n",
      "Requirement already satisfied: kiwisolver>=1.0.1 in c:\\users\\utkarsh\\appdata\\local\\programs\\python\\python310\\lib\\site-packages (from matplotlib) (1.4.4)\n",
      "Requirement already satisfied: packaging>=20.0 in c:\\users\\utkarsh\\appdata\\local\\programs\\python\\python310\\lib\\site-packages (from matplotlib) (23.2)\n",
      "Requirement already satisfied: pillow>=6.2.0 in c:\\users\\utkarsh\\appdata\\local\\programs\\python\\python310\\lib\\site-packages (from matplotlib) (9.5.0)\n",
      "Requirement already satisfied: pyparsing<3.1,>=2.3.1 in c:\\users\\utkarsh\\appdata\\local\\programs\\python\\python310\\lib\\site-packages (from matplotlib) (3.0.9)\n",
      "Requirement already satisfied: scipy>=1.6.0 in c:\\users\\utkarsh\\appdata\\local\\programs\\python\\python310\\lib\\site-packages (from scikit-learn) (1.11.3)\n",
      "Requirement already satisfied: joblib>=1.2.0 in c:\\users\\utkarsh\\appdata\\local\\programs\\python\\python310\\lib\\site-packages (from scikit-learn) (1.3.2)\n",
      "Requirement already satisfied: threadpoolctl>=3.1.0 in c:\\users\\utkarsh\\appdata\\local\\programs\\python\\python310\\lib\\site-packages (from scikit-learn) (3.5.0)\n",
      "Requirement already satisfied: filelock in c:\\users\\utkarsh\\appdata\\local\\programs\\python\\python310\\lib\\site-packages (from torch) (3.12.2)\n",
      "Requirement already satisfied: typing-extensions>=4.8.0 in c:\\users\\utkarsh\\appdata\\local\\programs\\python\\python310\\lib\\site-packages (from torch) (4.12.2)\n",
      "Requirement already satisfied: networkx in c:\\users\\utkarsh\\appdata\\local\\programs\\python\\python310\\lib\\site-packages (from torch) (3.1)\n",
      "Requirement already satisfied: jinja2 in c:\\users\\utkarsh\\appdata\\local\\programs\\python\\python310\\lib\\site-packages (from torch) (3.1.2)\n",
      "Requirement already satisfied: fsspec in c:\\users\\utkarsh\\appdata\\local\\programs\\python\\python310\\lib\\site-packages (from torch) (2023.6.0)\n",
      "Requirement already satisfied: sympy==1.13.1 in c:\\users\\utkarsh\\appdata\\local\\programs\\python\\python310\\lib\\site-packages (from torch) (1.13.1)\n",
      "Requirement already satisfied: mpmath<1.4,>=1.1.0 in c:\\users\\utkarsh\\appdata\\local\\programs\\python\\python310\\lib\\site-packages (from sympy==1.13.1->torch) (1.3.0)\n",
      "Requirement already satisfied: six>=1.5 in c:\\users\\utkarsh\\appdata\\local\\programs\\python\\python310\\lib\\site-packages (from python-dateutil>=2.8.2->pandas) (1.16.0)\n",
      "Requirement already satisfied: MarkupSafe>=2.0 in c:\\users\\utkarsh\\appdata\\local\\programs\\python\\python310\\lib\\site-packages (from jinja2->torch) (2.1.3)\n",
      "Note: you may need to restart the kernel to use updated packages.\n"
     ]
    }
   ],
   "source": [
    "%pip install numpy pandas matplotlib scikit-learn torch torchvision"
   ]
  },
  {
   "cell_type": "code",
   "execution_count": 2,
   "metadata": {},
   "outputs": [],
   "source": [
    "LABEL_MAPPING = {\n",
    "    0: \"T-shirt/top\", 1: \"Trouser\", 2: \"Pullover\", 3: \"Dress\", 4: \"Coat\",\n",
    "    5: \"Sandal\", 6: \"Shirt\", 7: \"Sneaker\", 8: \"Bag\", 9: \"Ankle boot\"\n",
    "}"
   ]
  },
  {
   "cell_type": "code",
   "execution_count": 3,
   "metadata": {},
   "outputs": [],
   "source": [
    "from time import time as timer\n",
    "import numpy as np\n",
    "import pandas as pd\n",
    "import matplotlib.pyplot as plt\n",
    "import torch\n",
    "import torch.nn as nn\n",
    "import torch.nn.functional as F\n",
    "import torch.optim as optim\n",
    "from torch.utils.data import random_split, TensorDataset, DataLoader"
   ]
  },
  {
   "cell_type": "code",
   "execution_count": 4,
   "metadata": {},
   "outputs": [
    {
     "data": {
      "text/plain": [
       "((60000, 28, 28), array([2, 9, 6, 0, 3, 4, 4, 5, 4, 8], dtype=int64))"
      ]
     },
     "execution_count": 4,
     "metadata": {},
     "output_type": "execute_result"
    }
   ],
   "source": [
    "# Loading the dataset in a numpy array format for now\n",
    "df = pd.read_csv(\"data/data.csv\")\n",
    "\n",
    "labels = df.label.values\n",
    "images = df.drop(\"label\", axis=1).values.reshape(-1, 28, 28) / 255.0     # Also normalizing the images on hand\n",
    "\n",
    "images.shape, labels[:10]"
   ]
  },
  {
   "cell_type": "code",
   "execution_count": 5,
   "metadata": {},
   "outputs": [
    {
     "data": {
      "text/plain": [
       "device(type='cpu')"
      ]
     },
     "execution_count": 5,
     "metadata": {},
     "output_type": "execute_result"
    }
   ],
   "source": [
    "# Getting the device on which we want our model to run\n",
    "if torch.cuda.is_available():\n",
    "    device = torch.device(\"cuda\")\n",
    "else:\n",
    "    device = torch.device(\"cpu\")\n",
    "    \n",
    "device"
   ]
  },
  {
   "cell_type": "code",
   "execution_count": 6,
   "metadata": {},
   "outputs": [
    {
     "data": {
      "text/plain": [
       "(torch.Size([60000, 784]), torch.Size([60000]))"
      ]
     },
     "execution_count": 6,
     "metadata": {},
     "output_type": "execute_result"
    }
   ],
   "source": [
    "# Flatten the images, and then convert them to PyTorch Tensors.\n",
    "images = images.reshape(-1, 28*28)\n",
    "\n",
    "X = torch.tensor(images, dtype=torch.float32)\n",
    "y = torch.tensor(labels, dtype=torch.long)\n",
    "\n",
    "X.shape, y.shape"
   ]
  },
  {
   "cell_type": "code",
   "execution_count": 7,
   "metadata": {},
   "outputs": [],
   "source": [
    "# Creating the dataset\n",
    "dataset = TensorDataset(X, y)"
   ]
  },
  {
   "cell_type": "code",
   "execution_count": 8,
   "metadata": {},
   "outputs": [],
   "source": [
    "# Splitting the dataset between training and validation sets, with a 80-20 split. Training set will 80& of data, Validation set 20%\n",
    "train_ds, val_ds = random_split(dataset, [int(0.8*len(dataset)), int(0.2*len(dataset))])\n",
    "\n",
    "# Creating the DataLoaders\n",
    "train_loader = DataLoader(train_ds, batch_size=64, shuffle=True)\n",
    "val_loader = DataLoader(val_ds, batch_size=64, shuffle=True)"
   ]
  },
  {
   "cell_type": "code",
   "execution_count": 9,
   "metadata": {},
   "outputs": [
    {
     "data": {
      "image/png": "[encoded data removed]",
      "text/plain": [
       "<Figure size 640x480 with 1 Axes>"
      ]
     },
     "metadata": {},
     "output_type": "display_data"
    }
   ],
   "source": [
    "# Visualizing the first image of the first batch of both the loaders\n",
    "for img, lbl in train_loader:\n",
    "    plt.imshow(img[0].numpy().reshape((28, 28)), cmap='gray')\n",
    "    plt.title(LABEL_MAPPING[lbl[0].item()])\n",
    "    plt.plot()\n",
    "    break"
   ]
  },
  {
   "cell_type": "code",
   "execution_count": 10,
   "metadata": {},
   "outputs": [
    {
     "data": {
      "image/png": "[encoded data removed]",
      "text/plain": [
       "<Figure size 640x480 with 1 Axes>"
      ]
     },
     "metadata": {},
     "output_type": "display_data"
    }
   ],
   "source": [
    "for img, lbl in val_loader:\n",
    "    plt.imshow(img[0].numpy().reshape((28, 28)), cmap='gray')\n",
    "    plt.plot()\n",
    "    break"
   ]
  },
  {
   "cell_type": "code",
   "execution_count": 11,
   "metadata": {},
   "outputs": [],
   "source": [
    "# Creating the model architecture\n",
    "class NN(nn.Module):\n",
    "    def __init__(self):\n",
    "        super(NN, self).__init__()\n",
    "        \n",
    "        self.layers = nn.Sequential(\n",
    "            nn.Linear(28*28, 256),\n",
    "            nn.ReLU(),\n",
    "            nn.Linear(256, 128),\n",
    "            nn.ReLU(),\n",
    "            nn.Linear(128, 64),\n",
    "            nn.ReLU(),\n",
    "            nn.Linear(64, 10),\n",
    "            # Since we'll be using a Cross-Entropy Loss that already operates on probabilities of each class prediction,\n",
    "            # We don't need a final activation layer in this model.\n",
    "        )\n",
    "    \n",
    "    def forward(self, x):\n",
    "        x = self.layers(x)\n",
    "        return x"
   ]
  },
  {
   "cell_type": "code",
   "execution_count": 12,
   "metadata": {},
   "outputs": [
    {
     "data": {
      "text/plain": [
       "NN(\n",
       "  (layers): Sequential(\n",
       "    (0): Linear(in_features=784, out_features=256, bias=True)\n",
       "    (1): ReLU()\n",
       "    (2): Linear(in_features=256, out_features=128, bias=True)\n",
       "    (3): ReLU()\n",
       "    (4): Linear(in_features=128, out_features=64, bias=True)\n",
       "    (5): ReLU()\n",
       "    (6): Linear(in_features=64, out_features=10, bias=True)\n",
       "  )\n",
       ")"
      ]
     },
     "execution_count": 12,
     "metadata": {},
     "output_type": "execute_result"
    }
   ],
   "source": [
    "# Initializing the model\n",
    "model = NN()\n",
    "model"
   ]
  },
  {
   "cell_type": "code",
   "execution_count": 13,
   "metadata": {},
   "outputs": [
    {
     "name": "stdout",
     "output_type": "stream",
     "text": [
      "torch.Size([256, 784])\n",
      "torch.Size([256])\n",
      "torch.Size([128, 256])\n",
      "torch.Size([128])\n",
      "torch.Size([64, 128])\n",
      "torch.Size([64])\n",
      "torch.Size([10, 64])\n",
      "torch.Size([10])\n"
     ]
    }
   ],
   "source": [
    "# Printing the dimensions of all parameters\n",
    "for param in model.parameters():\n",
    "    print(param.shape)"
   ]
  },
  {
   "cell_type": "code",
   "execution_count": 14,
   "metadata": {},
   "outputs": [],
   "source": [
    "# Setting the Loss function, and the Optimizer\n",
    "loss = nn.CrossEntropyLoss()\n",
    "optimizer = optim.Adam(model.parameters(), lr=1e-3)"
   ]
  },
  {
   "cell_type": "code",
   "execution_count": 15,
   "metadata": {},
   "outputs": [],
   "source": [
    "# Creating the training function\n",
    "def train(model, train_loader, val_loader, loss_fn, optimizer, device, n_epochs=5):\n",
    "    model.to(device)\n",
    "    \n",
    "    for epoch in range(1, n_epochs+1):\n",
    "        start_time = timer()\n",
    "        \n",
    "        # First training the model on the training set\n",
    "        model.train()       # Set the model to training mode\n",
    "        train_loss = 0.0\n",
    "        for imgs, lbls in train_loader:\n",
    "            imgs, lbls = imgs.to(device), lbls.to(device)\n",
    "            \n",
    "            optimizer.zero_grad()\n",
    "            outputs = model(imgs)              # Forward pass\n",
    "            loss = loss_fn(outputs, lbls)      # Calculating the loss\n",
    "            loss.backward()                    # Backpropagation\n",
    "            \n",
    "            optimizer.step()\n",
    "            \n",
    "            train_loss += loss.item()\n",
    "        \n",
    "        train_loss /= len(train_loader)         # Divide training loss by the number of batches in the loader\n",
    "        \n",
    "        print(f\"Epoch [{epoch}/{n_epochs}] : Training Loss: {train_loss:.4f} | \", end='')\n",
    "        \n",
    "        # Now checking accuracy on the validation set\n",
    "        model.eval()        # Set the model to evaluation mode\n",
    "        val_loss = 0.0\n",
    "        correct = 0; total = 0\n",
    "        with torch.no_grad():\n",
    "            for imgs, lbls in val_loader:\n",
    "                imgs, lbls = imgs.to(device), lbls.to(device)\n",
    "            \n",
    "                outputs = model(imgs)\n",
    "                loss = loss_fn(outputs, lbls)\n",
    "                \n",
    "                preds = torch.argmax(outputs.data, dim=1)\n",
    "                \n",
    "                val_loss += loss.item()\n",
    "                correct += (preds == lbls).sum().item()\n",
    "                total += lbls.size(0)\n",
    "        \n",
    "        print(f\"Validation Loss: {val_loss/len(val_loader):.4f} | Accuracy: {correct/total * 100:.2f}% | Time: {timer()-start_time:.2f}\")"
   ]
  },
  {
   "cell_type": "code",
   "execution_count": 16,
   "metadata": {},
   "outputs": [
    {
     "name": "stdout",
     "output_type": "stream",
     "text": [
      "Epoch [1/10] : Training Loss: 0.5886 | Validation Loss: 0.4303 | Accuracy: 84.76% | Time: 9.43\n",
      "Epoch [2/10] : Training Loss: 0.4032 | Validation Loss: 0.3991 | Accuracy: 85.82% | Time: 12.64\n",
      "Epoch [3/10] : Training Loss: 0.3571 | Validation Loss: 0.3841 | Accuracy: 86.02% | Time: 11.20\n",
      "Epoch [4/10] : Training Loss: 0.3279 | Validation Loss: 0.3439 | Accuracy: 87.88% | Time: 11.13\n",
      "Epoch [5/10] : Training Loss: 0.3086 | Validation Loss: 0.3379 | Accuracy: 87.86% | Time: 10.17\n",
      "Epoch [6/10] : Training Loss: 0.2934 | Validation Loss: 0.3251 | Accuracy: 88.41% | Time: 9.55\n",
      "Epoch [7/10] : Training Loss: 0.2799 | Validation Loss: 0.3272 | Accuracy: 88.27% | Time: 10.95\n",
      "Epoch [8/10] : Training Loss: 0.2659 | Validation Loss: 0.3103 | Accuracy: 88.91% | Time: 10.89\n",
      "Epoch [9/10] : Training Loss: 0.2552 | Validation Loss: 0.3331 | Accuracy: 87.93% | Time: 11.32\n",
      "Epoch [10/10] : Training Loss: 0.2438 | Validation Loss: 0.3345 | Accuracy: 88.38% | Time: 10.76\n"
     ]
    }
   ],
   "source": [
    "# Training the model\n",
    "train(model, train_loader, val_loader, loss, optimizer, device, 10)"
   ]
  },
  {
   "cell_type": "markdown",
   "metadata": {},
   "source": [
    "Awesome, with just 10 epochs on a CPU, we got an accuracy of 88% on this dataset. Let's go ahead and save this model"
   ]
  },
  {
   "cell_type": "code",
   "execution_count": 17,
   "metadata": {},
   "outputs": [],
   "source": [
    "torch.save(model.state_dict(), \"model.pth\")"
   ]
  },
  {
   "cell_type": "code",
   "execution_count": null,
   "metadata": {},
   "outputs": [],
   "source": []
  },
  {
   "cell_type": "markdown",
   "metadata": {},
   "source": [
    "## Loading the model, and using it to make predictions"
   ]
  },
  {
   "cell_type": "code",
   "execution_count": 18,
   "metadata": {},
   "outputs": [
    {
     "name": "stderr",
     "output_type": "stream",
     "text": [
      "C:\\Users\\Utkarsh\\AppData\\Local\\Temp\\ipykernel_27252\\897295948.py:2: FutureWarning: You are using `torch.load` with `weights_only=False` (the current default value), which uses the default pickle module implicitly. It is possible to construct malicious pickle data which will execute arbitrary code during unpickling (See https://github.com/pytorch/pytorch/blob/main/SECURITY.md#untrusted-models for more details). In a future release, the default value for `weights_only` will be flipped to `True`. This limits the functions that could be executed during unpickling. Arbitrary objects will no longer be allowed to be loaded via this mode unless they are explicitly allowlisted by the user via `torch.serialization.add_safe_globals`. We recommend you start setting `weights_only=True` for any use case where you don't have full control of the loaded file. Please open an issue on GitHub for any issues related to this experimental feature.\n",
      "  model.load_state_dict(torch.load(\"model.pth\"))\n"
     ]
    },
    {
     "data": {
      "text/plain": [
       "<All keys matched successfully>"
      ]
     },
     "execution_count": 18,
     "metadata": {},
     "output_type": "execute_result"
    }
   ],
   "source": [
    "model = NN()\n",
    "model.load_state_dict(torch.load(\"model.pth\"))"
   ]
  },
  {
   "cell_type": "code",
   "execution_count": 19,
   "metadata": {},
   "outputs": [],
   "source": [
    "def make_prediction(model, sample):\n",
    "    if isinstance(sample, np.ndarray):\n",
    "        inputs = torch.tensor(sample.reshape(-1, 28*28) / 255.0, dtype=torch.float32)\n",
    "    elif isinstance(sample, str):\n",
    "        img = Image.open(sample).convert(\"L\").resize((28, 28))\n",
    "        img_arr = np.array(img)\n",
    "        \n",
    "        inputs = torch.tensor(img_arr.reshape(-1, 28*28) / 255.0, dtype=torch.float32)\n",
    "    elif isinstance(sample, torch.Tensor):\n",
    "        inputs = sample\n",
    "    else: raise ValueError(\"Error: sample must be a numpy.ndarray, a PathLike-string, or a torch.Tensor object\")\n",
    "    \n",
    "    # Ensure inputs have a batch dimension\n",
    "    if inputs.dim() == 1:\n",
    "        inputs = inputs.unsqueeze(0)  # Add batch dimension\n",
    "    \n",
    "    model.eval()\n",
    "    with torch.no_grad():\n",
    "        output = model(inputs)\n",
    "        pred = torch.argmax(output.data, dim=1).item()\n",
    "    \n",
    "    img = inputs.reshape((28, 28)).numpy()\n",
    "    \n",
    "    return img, pred"
   ]
  },
  {
   "cell_type": "code",
   "execution_count": 20,
   "metadata": {},
   "outputs": [
    {
     "data": {
      "image/png": "[encoded data removed]",
      "text/plain": [
       "<Figure size 1200x600 with 10 Axes>"
      ]
     },
     "metadata": {},
     "output_type": "display_data"
    }
   ],
   "source": [
    "# Visualizing the function for the first 10 images of the first batch of the val_loader\n",
    "fig, ax = plt.subplots(2, 5, figsize=(12, 6))\n",
    "ax = ax.ravel()\n",
    "\n",
    "for imgs, lbls in val_loader:\n",
    "    for i in range(10):\n",
    "        img, pred = make_prediction(model, imgs[i])\n",
    "        \n",
    "        ax[i].imshow(img, cmap='gray')\n",
    "        ax[i].set_title(f\"True: {LABEL_MAPPING[lbls[i].item()]}\\nPrediction: {LABEL_MAPPING[pred]}\")\n",
    "        ax[i].axis(\"off\")\n",
    "    break"
   ]
  },
  {
   "cell_type": "code",
   "execution_count": null,
   "metadata": {},
   "outputs": [],
   "source": []
  }
 ],
 "metadata": {
  "kernelspec": {
   "display_name": "Python 3",
   "language": "python",
   "name": "python3"
  },
  "language_info": {
   "codemirror_mode": {
    "name": "ipython",
    "version": 3
   },
   "file_extension": ".py",
   "mimetype": "text/x-python",
   "name": "python",
   "nbconvert_exporter": "python",
   "pygments_lexer": "ipython3",
   "version": "3.10.11"
  }
 },
 "nbformat": 4,
 "nbformat_minor": 2
}
